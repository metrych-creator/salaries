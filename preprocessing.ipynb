{
 "cells": [
  {
   "cell_type": "code",
   "execution_count": 14,
   "id": "96b496f4",
   "metadata": {},
   "outputs": [],
   "source": [
    "import pandas as pd\n",
    "import numpy as np"
   ]
  },
  {
   "cell_type": "code",
   "execution_count": 15,
   "id": "797e9d39",
   "metadata": {},
   "outputs": [],
   "source": [
    "pd.set_option('display.max_columns', None)\n",
    "pd.set_option('display.max_rows', 1000)"
   ]
  },
  {
   "cell_type": "code",
   "execution_count": 16,
   "id": "ccf998b6",
   "metadata": {},
   "outputs": [],
   "source": [
    "df = pd.read_csv('data/Train_rev1.csv')"
   ]
  },
  {
   "cell_type": "code",
   "execution_count": null,
   "id": "1065321d-3e4c-4859-bcea-c506d0264b22",
   "metadata": {},
   "outputs": [],
   "source": [
    "df.shape"
   ]
  },
  {
   "cell_type": "code",
   "execution_count": 18,
   "id": "acc726b1",
   "metadata": {},
   "outputs": [
    {
     "data": {
      "text/html": [
       "<div>\n",
       "<style scoped>\n",
       "    .dataframe tbody tr th:only-of-type {\n",
       "        vertical-align: middle;\n",
       "    }\n",
       "\n",
       "    .dataframe tbody tr th {\n",
       "        vertical-align: top;\n",
       "    }\n",
       "\n",
       "    .dataframe thead th {\n",
       "        text-align: right;\n",
       "    }\n",
       "</style>\n",
       "<table border=\"1\" class=\"dataframe\">\n",
       "  <thead>\n",
       "    <tr style=\"text-align: right;\">\n",
       "      <th></th>\n",
       "      <th>Id</th>\n",
       "      <th>Title</th>\n",
       "      <th>FullDescription</th>\n",
       "      <th>LocationRaw</th>\n",
       "      <th>LocationNormalized</th>\n",
       "      <th>ContractType</th>\n",
       "      <th>ContractTime</th>\n",
       "      <th>Company</th>\n",
       "      <th>Category</th>\n",
       "      <th>SalaryRaw</th>\n",
       "      <th>SalaryNormalized</th>\n",
       "      <th>SourceName</th>\n",
       "    </tr>\n",
       "  </thead>\n",
       "  <tbody>\n",
       "    <tr>\n",
       "      <th>0</th>\n",
       "      <td>12612628</td>\n",
       "      <td>Engineering Systems Analyst</td>\n",
       "      <td>Engineering Systems Analyst Dorking Surrey Sal...</td>\n",
       "      <td>Dorking, Surrey, Surrey</td>\n",
       "      <td>Dorking</td>\n",
       "      <td>NaN</td>\n",
       "      <td>permanent</td>\n",
       "      <td>Gregory Martin International</td>\n",
       "      <td>Engineering Jobs</td>\n",
       "      <td>20000 - 30000/annum 20-30K</td>\n",
       "      <td>25000</td>\n",
       "      <td>cv-library.co.uk</td>\n",
       "    </tr>\n",
       "    <tr>\n",
       "      <th>1</th>\n",
       "      <td>12612830</td>\n",
       "      <td>Stress Engineer Glasgow</td>\n",
       "      <td>Stress Engineer Glasgow Salary **** to **** We...</td>\n",
       "      <td>Glasgow, Scotland, Scotland</td>\n",
       "      <td>Glasgow</td>\n",
       "      <td>NaN</td>\n",
       "      <td>permanent</td>\n",
       "      <td>Gregory Martin International</td>\n",
       "      <td>Engineering Jobs</td>\n",
       "      <td>25000 - 35000/annum 25-35K</td>\n",
       "      <td>30000</td>\n",
       "      <td>cv-library.co.uk</td>\n",
       "    </tr>\n",
       "    <tr>\n",
       "      <th>2</th>\n",
       "      <td>12612844</td>\n",
       "      <td>Modelling and simulation analyst</td>\n",
       "      <td>Mathematical Modeller / Simulation Analyst / O...</td>\n",
       "      <td>Hampshire, South East, South East</td>\n",
       "      <td>Hampshire</td>\n",
       "      <td>NaN</td>\n",
       "      <td>permanent</td>\n",
       "      <td>Gregory Martin International</td>\n",
       "      <td>Engineering Jobs</td>\n",
       "      <td>20000 - 40000/annum 20-40K</td>\n",
       "      <td>30000</td>\n",
       "      <td>cv-library.co.uk</td>\n",
       "    </tr>\n",
       "  </tbody>\n",
       "</table>\n",
       "</div>"
      ],
      "text/plain": [
       "         Id                             Title  \\\n",
       "0  12612628       Engineering Systems Analyst   \n",
       "1  12612830           Stress Engineer Glasgow   \n",
       "2  12612844  Modelling and simulation analyst   \n",
       "\n",
       "                                     FullDescription  \\\n",
       "0  Engineering Systems Analyst Dorking Surrey Sal...   \n",
       "1  Stress Engineer Glasgow Salary **** to **** We...   \n",
       "2  Mathematical Modeller / Simulation Analyst / O...   \n",
       "\n",
       "                         LocationRaw LocationNormalized ContractType  \\\n",
       "0            Dorking, Surrey, Surrey            Dorking          NaN   \n",
       "1        Glasgow, Scotland, Scotland            Glasgow          NaN   \n",
       "2  Hampshire, South East, South East          Hampshire          NaN   \n",
       "\n",
       "  ContractTime                       Company          Category  \\\n",
       "0    permanent  Gregory Martin International  Engineering Jobs   \n",
       "1    permanent  Gregory Martin International  Engineering Jobs   \n",
       "2    permanent  Gregory Martin International  Engineering Jobs   \n",
       "\n",
       "                    SalaryRaw  SalaryNormalized        SourceName  \n",
       "0  20000 - 30000/annum 20-30K             25000  cv-library.co.uk  \n",
       "1  25000 - 35000/annum 25-35K             30000  cv-library.co.uk  \n",
       "2  20000 - 40000/annum 20-40K             30000  cv-library.co.uk  "
      ]
     },
     "execution_count": 18,
     "metadata": {},
     "output_type": "execute_result"
    }
   ],
   "source": [
    "df.head(3)"
   ]
  },
  {
   "cell_type": "code",
   "execution_count": 19,
   "id": "2a3ef045",
   "metadata": {},
   "outputs": [
    {
     "name": "stdout",
     "output_type": "stream",
     "text": [
      "<class 'pandas.core.frame.DataFrame'>\n",
      "RangeIndex: 244768 entries, 0 to 244767\n",
      "Data columns (total 12 columns):\n",
      " #   Column              Non-Null Count   Dtype \n",
      "---  ------              --------------   ----- \n",
      " 0   Id                  244768 non-null  int64 \n",
      " 1   Title               244767 non-null  object\n",
      " 2   FullDescription     244768 non-null  object\n",
      " 3   LocationRaw         244768 non-null  object\n",
      " 4   LocationNormalized  244768 non-null  object\n",
      " 5   ContractType        65442 non-null   object\n",
      " 6   ContractTime        180863 non-null  object\n",
      " 7   Company             212338 non-null  object\n",
      " 8   Category            244768 non-null  object\n",
      " 9   SalaryRaw           244768 non-null  object\n",
      " 10  SalaryNormalized    244768 non-null  int64 \n",
      " 11  SourceName          244767 non-null  object\n",
      "dtypes: int64(2), object(10)\n",
      "memory usage: 22.4+ MB\n"
     ]
    }
   ],
   "source": [
    "df.info()"
   ]
  },
  {
   "cell_type": "code",
   "execution_count": 20,
   "id": "a14b2297",
   "metadata": {},
   "outputs": [
    {
     "data": {
      "text/html": [
       "<div>\n",
       "<style scoped>\n",
       "    .dataframe tbody tr th:only-of-type {\n",
       "        vertical-align: middle;\n",
       "    }\n",
       "\n",
       "    .dataframe tbody tr th {\n",
       "        vertical-align: top;\n",
       "    }\n",
       "\n",
       "    .dataframe thead th {\n",
       "        text-align: right;\n",
       "    }\n",
       "</style>\n",
       "<table border=\"1\" class=\"dataframe\">\n",
       "  <thead>\n",
       "    <tr style=\"text-align: right;\">\n",
       "      <th></th>\n",
       "      <th>Id</th>\n",
       "      <th>Title</th>\n",
       "      <th>FullDescription</th>\n",
       "      <th>LocationRaw</th>\n",
       "      <th>LocationNormalized</th>\n",
       "      <th>ContractType</th>\n",
       "      <th>ContractTime</th>\n",
       "      <th>Company</th>\n",
       "      <th>Category</th>\n",
       "      <th>SalaryRaw</th>\n",
       "      <th>SalaryNormalized</th>\n",
       "      <th>SourceName</th>\n",
       "    </tr>\n",
       "  </thead>\n",
       "  <tbody>\n",
       "    <tr>\n",
       "      <th>count</th>\n",
       "      <td>2.447680e+05</td>\n",
       "      <td>244767</td>\n",
       "      <td>244768</td>\n",
       "      <td>244768</td>\n",
       "      <td>244768</td>\n",
       "      <td>65442</td>\n",
       "      <td>180863</td>\n",
       "      <td>212338</td>\n",
       "      <td>244768</td>\n",
       "      <td>244768</td>\n",
       "      <td>244768.000000</td>\n",
       "      <td>244767</td>\n",
       "    </tr>\n",
       "    <tr>\n",
       "      <th>unique</th>\n",
       "      <td>NaN</td>\n",
       "      <td>135435</td>\n",
       "      <td>242138</td>\n",
       "      <td>20986</td>\n",
       "      <td>2732</td>\n",
       "      <td>2</td>\n",
       "      <td>2</td>\n",
       "      <td>20812</td>\n",
       "      <td>29</td>\n",
       "      <td>97286</td>\n",
       "      <td>NaN</td>\n",
       "      <td>167</td>\n",
       "    </tr>\n",
       "    <tr>\n",
       "      <th>top</th>\n",
       "      <td>NaN</td>\n",
       "      <td>Business Development Manager</td>\n",
       "      <td>What is expected of you as a Registered Nurse ...</td>\n",
       "      <td>London</td>\n",
       "      <td>UK</td>\n",
       "      <td>full_time</td>\n",
       "      <td>permanent</td>\n",
       "      <td>UKStaffsearch</td>\n",
       "      <td>IT Jobs</td>\n",
       "      <td>50,000-74,999 yearly</td>\n",
       "      <td>NaN</td>\n",
       "      <td>totaljobs.com</td>\n",
       "    </tr>\n",
       "    <tr>\n",
       "      <th>freq</th>\n",
       "      <td>NaN</td>\n",
       "      <td>921</td>\n",
       "      <td>18</td>\n",
       "      <td>15605</td>\n",
       "      <td>41093</td>\n",
       "      <td>57538</td>\n",
       "      <td>151521</td>\n",
       "      <td>4997</td>\n",
       "      <td>38483</td>\n",
       "      <td>1923</td>\n",
       "      <td>NaN</td>\n",
       "      <td>48149</td>\n",
       "    </tr>\n",
       "    <tr>\n",
       "      <th>mean</th>\n",
       "      <td>6.970142e+07</td>\n",
       "      <td>NaN</td>\n",
       "      <td>NaN</td>\n",
       "      <td>NaN</td>\n",
       "      <td>NaN</td>\n",
       "      <td>NaN</td>\n",
       "      <td>NaN</td>\n",
       "      <td>NaN</td>\n",
       "      <td>NaN</td>\n",
       "      <td>NaN</td>\n",
       "      <td>34122.577576</td>\n",
       "      <td>NaN</td>\n",
       "    </tr>\n",
       "    <tr>\n",
       "      <th>std</th>\n",
       "      <td>3.129813e+06</td>\n",
       "      <td>NaN</td>\n",
       "      <td>NaN</td>\n",
       "      <td>NaN</td>\n",
       "      <td>NaN</td>\n",
       "      <td>NaN</td>\n",
       "      <td>NaN</td>\n",
       "      <td>NaN</td>\n",
       "      <td>NaN</td>\n",
       "      <td>NaN</td>\n",
       "      <td>17640.543124</td>\n",
       "      <td>NaN</td>\n",
       "    </tr>\n",
       "    <tr>\n",
       "      <th>min</th>\n",
       "      <td>1.261263e+07</td>\n",
       "      <td>NaN</td>\n",
       "      <td>NaN</td>\n",
       "      <td>NaN</td>\n",
       "      <td>NaN</td>\n",
       "      <td>NaN</td>\n",
       "      <td>NaN</td>\n",
       "      <td>NaN</td>\n",
       "      <td>NaN</td>\n",
       "      <td>NaN</td>\n",
       "      <td>5000.000000</td>\n",
       "      <td>NaN</td>\n",
       "    </tr>\n",
       "    <tr>\n",
       "      <th>25%</th>\n",
       "      <td>6.869550e+07</td>\n",
       "      <td>NaN</td>\n",
       "      <td>NaN</td>\n",
       "      <td>NaN</td>\n",
       "      <td>NaN</td>\n",
       "      <td>NaN</td>\n",
       "      <td>NaN</td>\n",
       "      <td>NaN</td>\n",
       "      <td>NaN</td>\n",
       "      <td>NaN</td>\n",
       "      <td>21500.000000</td>\n",
       "      <td>NaN</td>\n",
       "    </tr>\n",
       "    <tr>\n",
       "      <th>50%</th>\n",
       "      <td>6.993700e+07</td>\n",
       "      <td>NaN</td>\n",
       "      <td>NaN</td>\n",
       "      <td>NaN</td>\n",
       "      <td>NaN</td>\n",
       "      <td>NaN</td>\n",
       "      <td>NaN</td>\n",
       "      <td>NaN</td>\n",
       "      <td>NaN</td>\n",
       "      <td>NaN</td>\n",
       "      <td>30000.000000</td>\n",
       "      <td>NaN</td>\n",
       "    </tr>\n",
       "    <tr>\n",
       "      <th>75%</th>\n",
       "      <td>7.162606e+07</td>\n",
       "      <td>NaN</td>\n",
       "      <td>NaN</td>\n",
       "      <td>NaN</td>\n",
       "      <td>NaN</td>\n",
       "      <td>NaN</td>\n",
       "      <td>NaN</td>\n",
       "      <td>NaN</td>\n",
       "      <td>NaN</td>\n",
       "      <td>NaN</td>\n",
       "      <td>42500.000000</td>\n",
       "      <td>NaN</td>\n",
       "    </tr>\n",
       "    <tr>\n",
       "      <th>max</th>\n",
       "      <td>7.270524e+07</td>\n",
       "      <td>NaN</td>\n",
       "      <td>NaN</td>\n",
       "      <td>NaN</td>\n",
       "      <td>NaN</td>\n",
       "      <td>NaN</td>\n",
       "      <td>NaN</td>\n",
       "      <td>NaN</td>\n",
       "      <td>NaN</td>\n",
       "      <td>NaN</td>\n",
       "      <td>200000.000000</td>\n",
       "      <td>NaN</td>\n",
       "    </tr>\n",
       "  </tbody>\n",
       "</table>\n",
       "</div>"
      ],
      "text/plain": [
       "                  Id                         Title  \\\n",
       "count   2.447680e+05                        244767   \n",
       "unique           NaN                        135435   \n",
       "top              NaN  Business Development Manager   \n",
       "freq             NaN                           921   \n",
       "mean    6.970142e+07                           NaN   \n",
       "std     3.129813e+06                           NaN   \n",
       "min     1.261263e+07                           NaN   \n",
       "25%     6.869550e+07                           NaN   \n",
       "50%     6.993700e+07                           NaN   \n",
       "75%     7.162606e+07                           NaN   \n",
       "max     7.270524e+07                           NaN   \n",
       "\n",
       "                                          FullDescription LocationRaw  \\\n",
       "count                                              244768      244768   \n",
       "unique                                             242138       20986   \n",
       "top     What is expected of you as a Registered Nurse ...      London   \n",
       "freq                                                   18       15605   \n",
       "mean                                                  NaN         NaN   \n",
       "std                                                   NaN         NaN   \n",
       "min                                                   NaN         NaN   \n",
       "25%                                                   NaN         NaN   \n",
       "50%                                                   NaN         NaN   \n",
       "75%                                                   NaN         NaN   \n",
       "max                                                   NaN         NaN   \n",
       "\n",
       "       LocationNormalized ContractType ContractTime        Company Category  \\\n",
       "count              244768        65442       180863         212338   244768   \n",
       "unique               2732            2            2          20812       29   \n",
       "top                    UK    full_time    permanent  UKStaffsearch  IT Jobs   \n",
       "freq                41093        57538       151521           4997    38483   \n",
       "mean                  NaN          NaN          NaN            NaN      NaN   \n",
       "std                   NaN          NaN          NaN            NaN      NaN   \n",
       "min                   NaN          NaN          NaN            NaN      NaN   \n",
       "25%                   NaN          NaN          NaN            NaN      NaN   \n",
       "50%                   NaN          NaN          NaN            NaN      NaN   \n",
       "75%                   NaN          NaN          NaN            NaN      NaN   \n",
       "max                   NaN          NaN          NaN            NaN      NaN   \n",
       "\n",
       "                   SalaryRaw  SalaryNormalized     SourceName  \n",
       "count                 244768     244768.000000         244767  \n",
       "unique                 97286               NaN            167  \n",
       "top     50,000-74,999 yearly               NaN  totaljobs.com  \n",
       "freq                    1923               NaN          48149  \n",
       "mean                     NaN      34122.577576            NaN  \n",
       "std                      NaN      17640.543124            NaN  \n",
       "min                      NaN       5000.000000            NaN  \n",
       "25%                      NaN      21500.000000            NaN  \n",
       "50%                      NaN      30000.000000            NaN  \n",
       "75%                      NaN      42500.000000            NaN  \n",
       "max                      NaN     200000.000000            NaN  "
      ]
     },
     "execution_count": 20,
     "metadata": {},
     "output_type": "execute_result"
    }
   ],
   "source": [
    "df.describe(include='all')"
   ]
  },
  {
   "cell_type": "code",
   "execution_count": 21,
   "id": "83e2495f",
   "metadata": {},
   "outputs": [
    {
     "data": {
      "text/plain": [
       "(244768, 12)"
      ]
     },
     "execution_count": 21,
     "metadata": {},
     "output_type": "execute_result"
    }
   ],
   "source": [
    "df.shape"
   ]
  },
  {
   "cell_type": "markdown",
   "id": "fc7383c5",
   "metadata": {},
   "source": [
    "# 1. Drop columns"
   ]
  },
  {
   "cell_type": "code",
   "execution_count": 22,
   "id": "8cc4aefe",
   "metadata": {},
   "outputs": [],
   "source": [
    "df.drop(columns=['Id', 'SalaryRaw', 'LocationRaw'], inplace=True)"
   ]
  },
  {
   "cell_type": "markdown",
   "id": "4d1bae63",
   "metadata": {},
   "source": [
    "# 2. Fill missing values"
   ]
  },
  {
   "cell_type": "code",
   "execution_count": 23,
   "id": "b4036bed",
   "metadata": {},
   "outputs": [
    {
     "name": "stdout",
     "output_type": "stream",
     "text": [
      "Missing values:\n"
     ]
    },
    {
     "data": {
      "text/plain": [
       "Title                  0.000409\n",
       "FullDescription        0.000000\n",
       "LocationNormalized     0.000000\n",
       "ContractType          73.263662\n",
       "ContractTime          26.108397\n",
       "Company               13.249281\n",
       "Category               0.000000\n",
       "SalaryNormalized       0.000000\n",
       "SourceName             0.000409\n",
       "dtype: float64"
      ]
     },
     "execution_count": 23,
     "metadata": {},
     "output_type": "execute_result"
    }
   ],
   "source": [
    "print('Missing values:')\n",
    "df.isna().sum()/df.shape[0]*100"
   ]
  },
  {
   "cell_type": "code",
   "execution_count": 24,
   "id": "dc875107",
   "metadata": {},
   "outputs": [],
   "source": [
    "def fill_missing(df):\n",
    "    for col in df.columns:\n",
    "        if df[col].dtype == 'O':  # object/string\n",
    "            df = df.fillna(df[col].mode()[0])\n",
    "        else:  # numbers\n",
    "            df = df.fillna(df[col].mean())\n",
    "    return df"
   ]
  },
  {
   "cell_type": "code",
   "execution_count": 25,
   "id": "a5bcae2c",
   "metadata": {},
   "outputs": [],
   "source": [
    "df = fill_missing(df)"
   ]
  },
  {
   "cell_type": "code",
   "execution_count": 26,
   "id": "321317d1",
   "metadata": {},
   "outputs": [
    {
     "data": {
      "text/plain": [
       "Title                 0.0\n",
       "FullDescription       0.0\n",
       "LocationNormalized    0.0\n",
       "ContractType          0.0\n",
       "ContractTime          0.0\n",
       "Company               0.0\n",
       "Category              0.0\n",
       "SalaryNormalized      0.0\n",
       "SourceName            0.0\n",
       "dtype: float64"
      ]
     },
     "execution_count": 26,
     "metadata": {},
     "output_type": "execute_result"
    }
   ],
   "source": [
    "df.isna().sum()/df.shape[0]*100"
   ]
  },
  {
   "cell_type": "markdown",
   "id": "aa6f69de",
   "metadata": {},
   "source": [
    "# 3. Duplicates"
   ]
  },
  {
   "cell_type": "code",
   "execution_count": 27,
   "id": "eaa60958",
   "metadata": {},
   "outputs": [
    {
     "data": {
      "text/plain": [
       "1"
      ]
     },
     "execution_count": 27,
     "metadata": {},
     "output_type": "execute_result"
    }
   ],
   "source": [
    "df.duplicated().sum()"
   ]
  },
  {
   "cell_type": "markdown",
   "id": "617c9256",
   "metadata": {},
   "source": [
    "# 4. Geostandarization"
   ]
  },
  {
   "cell_type": "markdown",
   "id": "a7b28cea",
   "metadata": {},
   "source": [
    "## 4.1. Get population data from geonames dataset"
   ]
  },
  {
   "cell_type": "code",
   "execution_count": 28,
   "id": "3f131deb",
   "metadata": {},
   "outputs": [],
   "source": [
    "# selecting data only for GB - turn on once (long)\n",
    "# cols = [\n",
    "#     'geonameid','name','asciiname','alternatenames','lat','lon',\n",
    "#     'feature_class','feature_code','country_code','cc2','admin1',\n",
    "#     'admin2','admin3','admin4','population','elevation','dem','tz','moddate'\n",
    "# ]\n",
    "\n",
    "# geonames = pd.read_csv(\n",
    "#     \"allCountries.txt\",\n",
    "#     sep=\"\\t\",\n",
    "#     names=cols,\n",
    "#     usecols=['asciiname', 'alternatenames', 'country_code', 'feature_code', 'feature_class', 'admin1', 'admin2', 'admin3', 'lon', 'lat', 'population'],\n",
    "#     dtype=str,\n",
    "#     header=None\n",
    "# )\n",
    "\n",
    "# geonames_gb = geonames[geonames['country_code'] == 'GB'].copy().reset_index(drop=True)\n",
    "# geonames_gb = geonames_gb[geonames_gb['feature_class'].isin(['P', 'A'])].reset_index()\n",
    "# geonames_gb.loc[geonames_gb['feature_code'] == 'PCLI', 'asciiname'] = 'UK'\n",
    "# geonames_gb.to_csv('geonames_gb.csv')"
   ]
  },
  {
   "cell_type": "code",
   "execution_count": 29,
   "id": "23c7dc27",
   "metadata": {},
   "outputs": [],
   "source": [
    "geonames_gb = pd.read_csv('geo_datasets/geonames_gb.csv')\n",
    "geonames_gb.rename(columns={'asciiname': 'name'}, inplace=True)"
   ]
  },
  {
   "cell_type": "markdown",
   "id": "5a6be49f",
   "metadata": {},
   "source": [
    "## 4.2. Get population for all locations where it is directly possible"
   ]
  },
  {
   "cell_type": "code",
   "execution_count": 30,
   "id": "a76fae7c",
   "metadata": {},
   "outputs": [],
   "source": [
    "# get population for locations\n",
    "pop_dict = geonames_gb['population'].copy()\n",
    "pop_dict = geonames_gb.set_index(geonames_gb['name'].str.lower().str.strip())['population'].to_dict()\n",
    "\n",
    "df['LocationPopulation'] = df['LocationNormalized'].str.lower().str.strip().map(lambda x: pop_dict.get(x))"
   ]
  },
  {
   "cell_type": "code",
   "execution_count": 31,
   "id": "0232cef8",
   "metadata": {},
   "outputs": [],
   "source": [
    "def print_missing_info():\n",
    "    print(f\"Missing data in population of location: {round(df[df['LocationPopulation'].isna()]['LocationNormalized'].count() / len(df) * 100, 2)}%, {df[df['LocationPopulation'].isna()]['LocationNormalized'].count()} cases\")\n",
    "    print()\n",
    "    print(df[df['LocationPopulation'].isna()]['LocationNormalized'].value_counts()[:5])"
   ]
  },
  {
   "cell_type": "code",
   "execution_count": 32,
   "id": "c22df645",
   "metadata": {},
   "outputs": [
    {
     "name": "stdout",
     "output_type": "stream",
     "text": [
      "Missing data in population of location: 12.44%, 30460 cases\n",
      "\n",
      "LocationNormalized\n",
      "South East London    11713\n",
      "Central London        2607\n",
      "West Midlands         2540\n",
      "Berkshire             1502\n",
      "West Yorkshire        1072\n",
      "Name: count, dtype: int64\n"
     ]
    }
   ],
   "source": [
    "print_missing_info()"
   ]
  },
  {
   "cell_type": "markdown",
   "id": "bb83a5a1",
   "metadata": {},
   "source": [
    "## 4.3. Remove directions and assign population to other fitting names"
   ]
  },
  {
   "cell_type": "code",
   "execution_count": 33,
   "id": "d77824ff",
   "metadata": {},
   "outputs": [],
   "source": [
    "directions = ['North', 'South', 'East', 'West', 'Central']\n",
    "df['LocationNormalized'] = df['LocationNormalized'].replace(\n",
    "    directions, '', regex=True\n",
    ").str.strip()\n",
    "\n",
    "missing_mask = df['LocationPopulation'].isna()\n",
    "missing_locations = df.loc[missing_mask, 'LocationNormalized'].str.lower().str.strip()\n",
    "\n",
    "pop_dict_missing = {loc: pop_dict.get(loc, np.nan) for loc in missing_locations}\n",
    "\n",
    "df.loc[missing_mask, 'LocationPopulation'] = missing_locations.map(pop_dict_missing)"
   ]
  },
  {
   "cell_type": "code",
   "execution_count": 34,
   "id": "0d7d0de0",
   "metadata": {},
   "outputs": [
    {
     "name": "stdout",
     "output_type": "stream",
     "text": [
      "Missing data in population of location: 4.58%, 11216 cases\n",
      "\n",
      "LocationNormalized\n",
      "Midlands                    3456\n",
      "Berkshire                   1502\n",
      "Cheshire                     871\n",
      "Yorkshire and Humberside     683\n",
      "Bedfordshire                 544\n",
      "Name: count, dtype: int64\n"
     ]
    }
   ],
   "source": [
    "print_missing_info()"
   ]
  },
  {
   "cell_type": "markdown",
   "id": "bc4a5c6a",
   "metadata": {},
   "source": [
    "## 4.4. Find population for Midlands in NUT regions"
   ]
  },
  {
   "cell_type": "code",
   "execution_count": 35,
   "id": "693c50b9",
   "metadata": {},
   "outputs": [],
   "source": [
    "# remove locations out of GB\n",
    "uk_lat_mask = (geonames_gb['lat'] >= 49) & (geonames_gb['lat'] <= 61)\n",
    "uk_lon_mask = (geonames_gb['lon'] >= -10) & (geonames_gb['lon'] <= 2)\n",
    "geonames_gb = geonames_gb[(geonames_gb['country_code'] == 'GB') & (uk_lat_mask) & (uk_lon_mask)]"
   ]
  },
  {
   "cell_type": "code",
   "execution_count": 39,
   "id": "152634f4",
   "metadata": {},
   "outputs": [],
   "source": [
    "nuts = pd.read_excel(\"geo_datasets/NUTS.xlsx\")\n",
    "nuts['NUTS118NM'] = nuts['NUTS118NM'].str.replace('(England)', '', regex=False).str.strip()\n",
    "nuts = nuts.rename(columns={'NUTS118NM': 'name', 'LONG': 'lon', 'LAT': 'lat'})"
   ]
  },
  {
   "cell_type": "code",
   "execution_count": 40,
   "id": "c097ddaa",
   "metadata": {},
   "outputs": [],
   "source": [
    "# find the closest point in geonames in nuts\n",
    "from scipy.spatial import cKDTree\n",
    "tree = cKDTree(geonames_gb[['lat', 'lon']].values)\n",
    "nuts_coords = nuts[['lat', 'lon']].values\n",
    "\n",
    "distances, indices = tree.query(nuts_coords, k=1)  # k=1 -> 1 neighbour\n",
    "\n",
    "nuts['population'] = geonames_gb.iloc[indices]['population'].values\n",
    "nuts_population = dict(zip(nuts['name'], nuts['population']))"
   ]
  },
  {
   "cell_type": "code",
   "execution_count": 41,
   "id": "91f04a79",
   "metadata": {},
   "outputs": [],
   "source": [
    "from typing import Counter\n",
    "\n",
    "# combine West and East Midlands\n",
    "nuts_population = {**{k: v for k, v in nuts_population.items() if 'Midlands' not in k},\n",
    "                 **{'Midlands': sum(v for k, v in nuts_population.items() if 'Midlands' in k)}}"
   ]
  },
  {
   "cell_type": "code",
   "execution_count": 42,
   "id": "01d190a2",
   "metadata": {},
   "outputs": [
    {
     "data": {
      "text/plain": [
       "{'North East': 1126,\n",
       " 'North West': 0,\n",
       " 'Yorkshire and The Humber': 0,\n",
       " 'East of England': 686,\n",
       " 'London': 10750,\n",
       " 'South East': 0,\n",
       " 'South West': 0,\n",
       " 'Wales': 0,\n",
       " 'Scotland': 8830,\n",
       " 'Northern Ireland': 0,\n",
       " 'Midlands': 50878}"
      ]
     },
     "execution_count": 42,
     "metadata": {},
     "output_type": "execute_result"
    }
   ],
   "source": [
    "nuts_population"
   ]
  },
  {
   "cell_type": "code",
   "execution_count": 43,
   "id": "fda1c156",
   "metadata": {},
   "outputs": [],
   "source": [
    "# impute nuts locations\n",
    "population_from_dict = df['LocationNormalized'].map(nuts_population)\n",
    "\n",
    "mask = ((df['LocationPopulation'].isnull()) | (df['LocationPopulation'] == 0)) & population_from_dict.notnull()\n",
    "\n",
    "df.loc[mask, 'LocationPopulation'] = population_from_dict[mask]"
   ]
  },
  {
   "cell_type": "code",
   "execution_count": 44,
   "id": "c358fa0c",
   "metadata": {},
   "outputs": [
    {
     "name": "stdout",
     "output_type": "stream",
     "text": [
      "Missing data in population of location: 3.17%, 7760 cases\n",
      "\n",
      "LocationNormalized\n",
      "Berkshire                   1502\n",
      "Cheshire                     871\n",
      "Yorkshire and Humberside     683\n",
      "Bedfordshire                 544\n",
      "Edinburgh Technopole         408\n",
      "Name: count, dtype: int64\n"
     ]
    }
   ],
   "source": [
    "print_missing_info()"
   ]
  },
  {
   "cell_type": "markdown",
   "id": "e5d35f5a",
   "metadata": {},
   "source": [
    "## 4.5. Cast rest of cases as 'UK'"
   ]
  },
  {
   "cell_type": "code",
   "execution_count": 45,
   "id": "102c9919",
   "metadata": {},
   "outputs": [],
   "source": [
    "mask = df['LocationPopulation'].isna() | (df['LocationPopulation'] == 0)\n",
    "uk_pop = df.loc[df['LocationNormalized'].str.lower().eq('uk'), 'LocationPopulation'].dropna().iloc[0] if any(df['LocationNormalized'].str.lower().eq('uk')) else np.nan\n",
    "df.loc[mask, ['LocationNormalized', 'LocationPopulation']] = ['UK', uk_pop]"
   ]
  },
  {
   "cell_type": "code",
   "execution_count": 46,
   "id": "432f6279",
   "metadata": {},
   "outputs": [
    {
     "name": "stdout",
     "output_type": "stream",
     "text": [
      "Missing data in population of location: 0.0%, 0 cases\n",
      "\n",
      "Series([], Name: count, dtype: int64)\n"
     ]
    }
   ],
   "source": [
    "print_missing_info()"
   ]
  },
  {
   "cell_type": "code",
   "execution_count": 47,
   "id": "2d66ad74",
   "metadata": {},
   "outputs": [
    {
     "data": {
      "text/plain": [
       "LocationPopulation\n",
       "66488991.0    109313\n",
       "8961989.0      45511\n",
       "541263.0        3516\n",
       "50878.0         3456\n",
       "1157603.0       3061\n",
       "Name: count, dtype: int64"
      ]
     },
     "execution_count": 47,
     "metadata": {},
     "output_type": "execute_result"
    }
   ],
   "source": [
    "df['LocationPopulation'].value_counts().head()"
   ]
  },
  {
   "cell_type": "code",
   "execution_count": 48,
   "id": "88225a77",
   "metadata": {},
   "outputs": [],
   "source": [
    "df.drop(columns=['LocationNormalized'], inplace=True)"
   ]
  },
  {
   "cell_type": "markdown",
   "id": "c4a7b531",
   "metadata": {},
   "source": [
    "# 5. Split data"
   ]
  },
  {
   "cell_type": "code",
   "execution_count": 49,
   "id": "3b9abe0e",
   "metadata": {},
   "outputs": [],
   "source": [
    "from sklearn.model_selection import train_test_split\n",
    "train, test = train_test_split(df, test_size=0.3, random_state=42)"
   ]
  },
  {
   "cell_type": "markdown",
   "id": "80709e3b",
   "metadata": {},
   "source": [
    "# 6. One hot encoding"
   ]
  },
  {
   "cell_type": "code",
   "execution_count": 50,
   "id": "0789ee36",
   "metadata": {},
   "outputs": [],
   "source": [
    "# select most common source in category group\n",
    "category_to_source = train.groupby('Category')['SourceName'].agg(lambda x: x.mode()[0]).to_dict()\n",
    "train['SourceName'] = train['Category'].map(category_to_source)\n",
    "test['SourceName'] = test['Category'].map(category_to_source)"
   ]
  },
  {
   "cell_type": "code",
   "execution_count": 51,
   "id": "373175d4",
   "metadata": {},
   "outputs": [],
   "source": [
    "train = pd.get_dummies(train, columns = ['ContractType', 'ContractTime', 'Category', 'SourceName'], drop_first=True, dtype=int)\n",
    "test = pd.get_dummies(test, columns = ['ContractType', 'ContractTime', 'Category', 'SourceName'], drop_first=True, dtype=int)"
   ]
  },
  {
   "cell_type": "markdown",
   "id": "376308cb",
   "metadata": {},
   "source": [
    "# 7. Target Encoding - mean salary of company instead of company name"
   ]
  },
  {
   "cell_type": "code",
   "execution_count": 52,
   "id": "ca8aed3a",
   "metadata": {},
   "outputs": [],
   "source": [
    "# combining companies by two first words\n",
    "train['CompanyPrefix'] = train['Company'].apply(lambda x: ' '.join(str(x).split()[:2]))\n",
    "test['CompanyPrefix'] = test['Company'].apply(lambda x: ' '.join(str(x).split()[:2]))"
   ]
  },
  {
   "cell_type": "code",
   "execution_count": 53,
   "id": "34bf2f59",
   "metadata": {},
   "outputs": [],
   "source": [
    "# mean salary by company\n",
    "mean_company = train.groupby('CompanyPrefix')['SalaryNormalized'].mean()\n",
    "train['CompanyEncoded'] = train['CompanyPrefix'].map(mean_company)\n",
    "test['CompanyEncoded'] = test['CompanyPrefix'].map(mean_company)\n",
    "\n",
    "# filling not existing companies in test with global mean\n",
    "global_mean = train['SalaryNormalized'].mean()\n",
    "test['CompanyEncoded'] = test['CompanyEncoded'].fillna(global_mean)\n",
    "\n",
    "train.drop(columns=['Company', 'CompanyPrefix'], inplace=True)\n",
    "test.drop(columns=['Company', 'CompanyPrefix'], inplace=True)"
   ]
  },
  {
   "cell_type": "code",
   "execution_count": 54,
   "id": "543cdd4b",
   "metadata": {},
   "outputs": [
    {
     "data": {
      "text/plain": [
       "CompanyPrefix\n",
       ".Michael Page               77500.000000\n",
       "1 1                         21040.000000\n",
       "10 TRINITY                  45000.000000\n",
       "100 percent                 40500.000000\n",
       "100% IT                     30250.000000\n",
       "121 International           47500.000000\n",
       "121 Social                  20880.000000\n",
       "16 West                     34625.000000\n",
       "1Four1 Recruitment.co.uk    14976.000000\n",
       "1st Central                 39083.333333\n",
       "1st Choice                  22227.826087\n",
       "1st Contact                 40000.000000\n",
       "1st Executive               48507.291667\n",
       "1st For                     26286.000000\n",
       "1st Place                   24442.400000\n",
       "1st Step                    36596.923077\n",
       "1st Stop                    28208.250000\n",
       "20 20                       35083.333333\n",
       "2012 Security               13440.000000\n",
       "2013 01                     20000.000000\n",
       "2020 Technology             39500.000000\n",
       "22 Recruitment              22500.000000\n",
       "235 Consulting              50000.000000\n",
       "24 7                        57654.666667\n",
       "24 HR                       19392.000000\n",
       "24 Seven                    32643.333333\n",
       "24.7 Recruitment            11884.000000\n",
       "24/7 Recruitment            20079.800000\n",
       "24/7 UK                     18000.000000\n",
       "247 Community               12480.000000\n",
       "247 PROFESSIONAL            14640.000000\n",
       "247 Professional            27840.000000\n",
       "247 Staff                   35875.000000\n",
       "247 careservices            15360.000000\n",
       "24hrRecruitment             28800.000000\n",
       "2K Manufacturing            23000.000000\n",
       "2M Employment               20716.651163\n",
       "2ND CITY                    33214.285714\n",
       "2degrees                    49999.000000\n",
       "3 Point                     20125.000000\n",
       "3 Points                    20100.000000\n",
       "3 Way                       16320.000000\n",
       "3 way                       19000.000000\n",
       "31 Media                    14000.000000\n",
       "33 6                        60700.000000\n",
       "360 Bill’s                  26500.000000\n",
       "360 Entertainer             20333.333333\n",
       "360 Healthcare              12864.000000\n",
       "360 Love                    17000.000000\n",
       "360 Lyreco                  22875.000000\n",
       "360 MNDA                    31000.000000\n",
       "360 Orig                    14461.000000\n",
       "360 Past                    28500.000000\n",
       "360 Radley                  42500.000000\n",
       "360 Recruitment             30306.153846\n",
       "360 Resourcing              23052.466667\n",
       "360 Rockwool                22500.000000\n",
       "360 Speedy                  16500.000000\n",
       "360 Table                   38500.000000\n",
       "360 Whittard                12000.000000\n",
       "360 resourcing              27500.000000\n",
       "365 Ltd                     43116.666667\n",
       "38 DEGREES                  20000.000000\n",
       "38 Degrees                  41600.000000\n",
       "3D Personnel                24960.000000\n",
       "3VA                         28636.000000\n",
       "3d LEISURE                  17333.333333\n",
       "4 Resourcing                24691.818182\n",
       "4 Social                    34356.666667\n",
       "4 recruiting                22000.000000\n",
       "4CHILDREN                   31000.000000\n",
       "4Children                   20566.777778\n",
       "4Leisure Recruitment        24351.111111\n",
       "4MYSCHOOLS                  35000.000000\n",
       "4Social Work                36138.447581\n",
       "4T2 Multimedia              30000.000000\n",
       "4front Cleaning             12480.000000\n",
       "4it Recruitment             40129.032258\n",
       "4net Technologies           19000.000000\n",
       "4recruting                  17500.000000\n",
       "5 Star                      13622.000000\n",
       "59                          47040.000000\n",
       "5PM LIMITED                 30000.000000\n",
       "5Plus Recruitment           68333.333333\n",
       "5Q                          27519.230769\n",
       "5S Recruitment              37988.750000\n",
       "6 Star                      14960.000000\n",
       "7 Day                       13603.571429\n",
       "7 Fifty                     49753.846154\n",
       "7FiftyTwo Solutions         67500.000000\n",
       "7digital                    48999.000000\n",
       "8 Global                    16800.000000\n",
       "80:20 Performance           30000.000000\n",
       "9 20                        30250.000000\n",
       "99 Delta                    22500.000000\n",
       "99p Stores                  24000.000000\n",
       ": Gi                        18500.000000\n",
       "@ITS                        78000.000000\n",
       "@ITS Limited                64460.000000\n",
       "@its                        37500.000000\n",
       "Name: SalaryNormalized, dtype: float64"
      ]
     },
     "execution_count": 54,
     "metadata": {},
     "output_type": "execute_result"
    }
   ],
   "source": [
    "mean_company.head(100)"
   ]
  },
  {
   "cell_type": "markdown",
   "id": "0dcf8af3",
   "metadata": {},
   "source": [
    "# 8. Standarization"
   ]
  },
  {
   "cell_type": "code",
   "execution_count": 55,
   "id": "ce77565b",
   "metadata": {},
   "outputs": [],
   "source": [
    "from sklearn.preprocessing import StandardScaler\n",
    "numeric_cols = ['SalaryNormalized', 'CompanyEncoded', 'LocationPopulation']\n",
    "scaler = StandardScaler()\n",
    "train[numeric_cols] = scaler.fit_transform(train[numeric_cols])\n",
    "test[numeric_cols] = scaler.transform(test[numeric_cols])"
   ]
  },
  {
   "cell_type": "markdown",
   "id": "7a0a04e3",
   "metadata": {},
   "source": [
    "# 9. Embeddings"
   ]
  },
  {
   "cell_type": "code",
   "execution_count": 56,
   "id": "128f1e3e",
   "metadata": {},
   "outputs": [],
   "source": [
    "from sklearn.feature_extraction.text import TfidfVectorizer\n",
    "from scipy.sparse import hstack\n",
    "\n",
    "tfidf_desc = TfidfVectorizer(max_features=5000, stop_words='english')\n",
    "tfidf_title = TfidfVectorizer(max_features=1000, stop_words='english')\n",
    "\n",
    "X_train_desc = tfidf_desc.fit_transform(train[\"FullDescription\"])\n",
    "X_test_desc  = tfidf_desc.transform(test[\"FullDescription\"])\n",
    "\n",
    "X_train_title = tfidf_title.fit_transform(train[\"Title\"])\n",
    "X_test_title  = tfidf_title.transform(test[\"Title\"])\n",
    "\n",
    "# join\n",
    "X_train_text = hstack([X_train_desc, X_train_title])\n",
    "X_test_text  = hstack([X_test_desc, X_test_title])"
   ]
  },
  {
   "cell_type": "code",
   "execution_count": 57,
   "id": "760775e0",
   "metadata": {},
   "outputs": [
    {
     "name": "stdout",
     "output_type": "stream",
     "text": [
      "198677\n"
     ]
    }
   ],
   "source": [
    "from sklearn.feature_extraction.text import CountVectorizer\n",
    "vectorizer = CountVectorizer()\n",
    "vectorizer.fit(df['FullDescription'])\n",
    "print(len(vectorizer.vocabulary_))"
   ]
  },
  {
   "cell_type": "code",
   "execution_count": 58,
   "id": "dbe65737",
   "metadata": {},
   "outputs": [
    {
     "name": "stdout",
     "output_type": "stream",
     "text": [
      "18530\n"
     ]
    }
   ],
   "source": [
    "vectorizer = CountVectorizer()\n",
    "vectorizer.fit(df['Title'])\n",
    "print(len(vectorizer.vocabulary_))"
   ]
  },
  {
   "cell_type": "code",
   "execution_count": null,
   "id": "8c62737e",
   "metadata": {},
   "outputs": [],
   "source": [
    "from sklearn.decomposition import TruncatedSVD\n",
    "\n",
    "# dimenshion reduction\n",
    "svd = TruncatedSVD(n_components=50, random_state=42)\n",
    "\n",
    "X_train_text = svd.fit_transform(X_train_text)\n",
    "X_test_text  = svd.transform(X_test_text)"
   ]
  },
  {
   "cell_type": "code",
   "execution_count": null,
   "id": "1801df57",
   "metadata": {},
   "outputs": [],
   "source": [
    "train.drop(columns=['Title', 'FullDescription'], inplace=True)\n",
    "test.drop(columns=['Title', 'FullDescription'], inplace=True)"
   ]
  },
  {
   "cell_type": "markdown",
   "id": "ee79a33b",
   "metadata": {},
   "source": [
    "# 10. Data saving"
   ]
  },
  {
   "cell_type": "code",
   "execution_count": null,
   "id": "ae9088e4",
   "metadata": {},
   "outputs": [],
   "source": [
    "train.to_csv('data/train_preprocessed.csv', index=False)\n",
    "test.to_csv('data/test_preprocessed.csv', index=False)"
   ]
  },
  {
   "cell_type": "code",
   "execution_count": null,
   "id": "eff0ee4f",
   "metadata": {},
   "outputs": [],
   "source": [
    "train.head()"
   ]
  },
  {
   "cell_type": "code",
   "execution_count": null,
   "id": "32852f7f",
   "metadata": {},
   "outputs": [],
   "source": [
    "import joblib\n",
    "np.save(\"data/X_train_text.npy\", X_train_text)\n",
    "np.save(\"data/X_test_text.npy\", X_test_text)"
   ]
  }
 ],
 "metadata": {
  "kernelspec": {
   "display_name": "conda_pytorch_p310",
   "language": "python",
   "name": "conda_pytorch_p310"
  },
  "language_info": {
   "codemirror_mode": {
    "name": "ipython",
    "version": 3
   },
   "file_extension": ".py",
   "mimetype": "text/x-python",
   "name": "python",
   "nbconvert_exporter": "python",
   "pygments_lexer": "ipython3",
   "version": "3.10.18"
  }
 },
 "nbformat": 4,
 "nbformat_minor": 5
}
